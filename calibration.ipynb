{
 "cells": [
  {
   "cell_type": "code",
   "execution_count": 1,
   "metadata": {},
   "outputs": [],
   "source": [
    "import numpy as np\n",
    "\n",
    "import cv2\n",
    "\n",
    "import glob\n",
    "import sys"
   ]
  },
  {
   "cell_type": "code",
   "execution_count": 3,
   "metadata": {},
   "outputs": [
    {
     "name": "stdout",
     "output_type": "stream",
     "text": [
      "mtx:  [[1.15974662e+03 0.00000000e+00 5.89729853e+02]\n",
      " [0.00000000e+00 1.19962596e+03 7.17526917e+02]\n",
      " [0.00000000e+00 0.00000000e+00 1.00000000e+00]]\n",
      "dist:  [[ 0.17063425 -1.50810018  0.02381674  0.02423583  2.95143698]]\n",
      "total error: 0.0849303638598435\n"
     ]
    }
   ],
   "source": [
    "criteria = (cv2.TERM_CRITERIA_EPS + cv2.TERM_CRITERIA_MAX_ITER, 30, 0.001)\n",
    "\n",
    "objp = np.zeros((6*7,3), np.float32)\n",
    "\n",
    "objp[:,:2] = np.mgrid[0:7,0:6].T.reshape(-1,2)\n",
    "# Arrays to store object points and image points from all the images.\n",
    "\n",
    "objpoints = [] # 3d point in real world space\n",
    "imgpoints = [] # 2d points in image plane.\n",
    "\n",
    "images = glob.glob('./calibration/*.jpg') #파일에 있는 jpg 모두 불러오기\n",
    "\n",
    "for fname in images:\n",
    "    img = cv2.imread(fname)\n",
    "    gray = cv2.cvtColor(img,cv2.COLOR_BGR2GRAY)\n",
    "\n",
    "    # Find the chess board corners\n",
    "    ret, corners = cv2.findChessboardCorners(gray, (7,6),None)\n",
    "\n",
    "    # If found, add object points, image points (after refining them)\n",
    "    if ret == True:\n",
    "        objpoints.append(objp)\n",
    "\n",
    "        corners2 = cv2.cornerSubPix(gray,corners,(11,11),(-1,-1),criteria)\n",
    "        imgpoints.append(corners2)\n",
    "\n",
    "        # Draw and display the corners\n",
    "        img = cv2.drawChessboardCorners(img, (7,6), corners2,ret)\n",
    "        cv2.imshow('img',img)\n",
    "        cv2.waitKey(500)\n",
    "        \n",
    "        \n",
    "#stdoutOrigin=sys.stdout\n",
    "#sys.stdout=open(\"result.txt\",\"w\")#왜곡계수들 txt파일에 저장\n",
    "\n",
    "#카메라 매크릭스와 왜곡계수        \n",
    "ret, mtx, dist, rvecs, tvecs = cv2.calibrateCamera(objpoints, imgpoints, gray.shape[::-1],None,None)\n",
    "\n",
    "#print(\"ret: \",ret)\n",
    "print(\"mtx: \",mtx) #카메라 매트릭스\n",
    "np.savetxt(\"savemtx.txt\",mtx)\n",
    "np.save(\"savemtx.npy\",mtx)\n",
    "print(\"dist: \",dist)\n",
    "np.savetxt(\"./calibration/result/savedist.txt\",dist)\n",
    "np.save(\"./calibration/result/savedist.npy\",dist)\n",
    "#print(\"rvecs: \",rvecs) #회전벡터\n",
    "#print(\"tvecs: \",tvecs) #이동벡터\n",
    "\n",
    "img = cv2.imread('./calibration/KakaoTalk_20201011_204212702_16.jpg')#보정할 사진\n",
    "h, w = img.shape[:2]\n",
    "\n",
    "newcameramtx, roi=cv2.getOptimalNewCameraMatrix(mtx,dist,(w,h),1,(w,h))\n",
    "dst = cv2.undistort(img, mtx, dist, None, newcameramtx)\n",
    "\n",
    "# crop the image\n",
    "x,y,w,h = roi\n",
    "dst = dst[y:y+h, x:x+w]\n",
    "\n",
    "cv2.imwrite('calibresult.png',dst) #calibresult.png로 저장됨\n",
    "\n",
    "tot_error = 0\n",
    "for i in range(len(objpoints)):\n",
    "    imgpoints2, _ = cv2.projectPoints(objpoints[i], rvecs[i], tvecs[i], mtx, dist)\n",
    "    error = cv2.norm(imgpoints[i],imgpoints2, cv2.NORM_L2)/len(imgpoints2)\n",
    "    tot_error += error\n",
    "print(\"total error: {0}\".format(tot_error/len(objpoints)))\n",
    "\n",
    "#sys.stdout.close()\n",
    "#sys.stdout=stdoutOrigin\n",
    "\n",
    "cv2.destroyAllWindows()"
   ]
  },
  {
   "cell_type": "code",
   "execution_count": 59,
   "metadata": {
    "scrolled": false
   },
   "outputs": [
    {
     "data": {
      "text/plain": [
       "-1"
      ]
     },
     "execution_count": 59,
     "metadata": {},
     "output_type": "execute_result"
    }
   ],
   "source": [
    "#앞에서 구한 내부 파라미터들을 사용하여 보정\n",
    "#dist=[]\n",
    "#mtx: 카메라 행렬 저장-fx,fy,cx,cy\n",
    "#K=mtx \n",
    "K=np.load(\"./calibration/result/savemtx.npy\")\n",
    "dist=np.load(\"./calibration/result/savedist.npy\")\n",
    "\n",
    "image=cv2.imread('KakaoTalk_20201011_233316016_13.jpg')\n",
    "resize=cv2.resize(image,(640,360))\n",
    "images=glob.glob('KakaoTalk_20201011_233316016_13.jpg')\n",
    "\n",
    "for fname in images:\n",
    "    img=cv2.imread(fname)\n",
    "    h,w=img.shape[:2]\n",
    "    \n",
    "        # undistort\n",
    "    newcamera, roi = cv2.getOptimalNewCameraMatrix(K, dist, (w,h), 0)\n",
    "    newimg = cv2.undistort(img, K, dist, None, newcamera)\n",
    "    resize2 = cv2.resize(newimg, (640, 360))\n",
    "    \n",
    "    # save image\n",
    "    newfname = fname+'.undis.png'\n",
    "    cv2.imwrite(newfname, newimg)\n",
    "\n",
    "#cv2.imshow(\"prior_img\",resize) #결과 보여주기\n",
    "#cv2.imshow(\"new_img\",resize2)\n",
    "cv2.waitKey()"
   ]
  },
  {
   "cell_type": "code",
   "execution_count": null,
   "metadata": {},
   "outputs": [],
   "source": [
    "cv2.destroyAllWindows()"
   ]
  },
  {
   "cell_type": "code",
   "execution_count": null,
   "metadata": {},
   "outputs": [],
   "source": []
  },
  {
   "cell_type": "code",
   "execution_count": null,
   "metadata": {},
   "outputs": [],
   "source": []
  },
  {
   "cell_type": "code",
   "execution_count": null,
   "metadata": {},
   "outputs": [],
   "source": []
  },
  {
   "cell_type": "code",
   "execution_count": null,
   "metadata": {},
   "outputs": [],
   "source": []
  },
  {
   "cell_type": "code",
   "execution_count": null,
   "metadata": {},
   "outputs": [],
   "source": []
  }
 ],
 "metadata": {
  "kernelspec": {
   "display_name": "Python 3",
   "language": "python",
   "name": "python3"
  },
  "language_info": {
   "codemirror_mode": {
    "name": "ipython",
    "version": 3
   },
   "file_extension": ".py",
   "mimetype": "text/x-python",
   "name": "python",
   "nbconvert_exporter": "python",
   "pygments_lexer": "ipython3",
   "version": "3.8.3"
  }
 },
 "nbformat": 4,
 "nbformat_minor": 4
}
