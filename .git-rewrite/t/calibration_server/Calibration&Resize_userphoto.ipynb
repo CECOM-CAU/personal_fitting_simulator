{
 "cells": [
  {
   "cell_type": "code",
   "execution_count": 22,
   "metadata": {},
   "outputs": [],
   "source": [
    "import numpy as np\n",
    "\n",
    "import cv2\n",
    "\n",
    "import glob\n",
    "import sys"
   ]
  },
  {
   "cell_type": "code",
   "execution_count": 33,
   "metadata": {},
   "outputs": [],
   "source": [
    "#사진 3파트로 나눠서 자르기 -> 더 세분화해야할듯\n",
    "\n",
    "from PIL import Image\n",
    "img=Image.open(\"./calibration_test/testfile.jpg\")\n",
    "(img_h,img_w)=img.size\n",
    "\n",
    "unit=img_w/3\n",
    "\n",
    "grid=(0,0,img_h,unit)\n",
    "cropped_img1=img.crop(grid)\n",
    "cropped_img1.save('./calibration_test/testfile_crop1.jpg')\n",
    "\n",
    "grid=(0,unit,img_h,unit*2)\n",
    "cropped_img2=img.crop(grid)\n",
    "cropped_img2.save('./calibration_test/testfile_crop2.jpg')\n",
    "\n",
    "grid=(0,unit*2,img_h,unit*3)\n",
    "cropped_img3=img.crop(grid)\n",
    "cropped_img3.save('./calibration_test/testfile_crop3.jpg')"
   ]
  },
  {
   "cell_type": "code",
   "execution_count": 34,
   "metadata": {},
   "outputs": [
    {
     "data": {
      "text/plain": [
       "True"
      ]
     },
     "execution_count": 34,
     "metadata": {},
     "output_type": "execute_result"
    }
   ],
   "source": [
    "#각 파트별로 크기 재조절하고 합치기\n",
    "import cv2\n",
    "import numpy as np\n",
    "\n",
    "img=cv2.imread(\"./calibration_test/testfile_crop1.jpg\")\n",
    "img1=cv2.resize(img, None,None,1,0.8,interpolation=cv2.INTER_AREA)\n",
    "cv2.imwrite('./calibration_test/testfile_crop1.jpg', img1)\n",
    "\n",
    "img=cv2.imread(\"./calibration_test/testfile_crop2.jpg\")\n",
    "img2=cv2.resize(img, None,None,1,1,interpolation=cv2.INTER_AREA)\n",
    "cv2.imwrite('./calibration_test/testfile_crop2.jpg', img2)\n",
    "\n",
    "img=cv2.imread(\"./calibration_test/testfile_crop3.jpg\")\n",
    "img3=cv2.resize(img, None,None,1,0.8,interpolation=cv2.INTER_AREA)\n",
    "cv2.imwrite('./calibration_test/testfile_crop3.jpg', img3)\n",
    "\n",
    "addv=np.vstack((img1,img2))\n",
    "addv=np.vstack((addv,img3))\n",
    "\n",
    "\n",
    "cv2.imwrite('./calibration_test/testfile_resize.jpg', addv)"
   ]
  },
  {
   "cell_type": "code",
   "execution_count": 39,
   "metadata": {},
   "outputs": [
    {
     "data": {
      "text/plain": [
       "-1"
      ]
     },
     "execution_count": 39,
     "metadata": {},
     "output_type": "execute_result"
    }
   ],
   "source": [
    "#앞에서 구한 내부 파라미터들을 사용하여 보정\n",
    "#dist=[]\n",
    "#mtx: 카메라 행렬 저장-fx,fy,cx,cy\n",
    "#K=mtx \n",
    "\n",
    "K=np.load(\"./calibration_chess/result/savemtx.npy\") #저장되어 있는 mtx 파일 불러오기\n",
    "dist=np.load(\"./calibration_chess/result/savedist.npy\")#저장되어 있는 dist 파일 불러오기\n",
    "\n",
    "image=cv2.imread('./calibration_test/testfile_resize.jpg') #보정할 사진파일\n",
    "images=glob.glob('./calibration_test/testfile_resize.jpg') #보정할 사진파일\n",
    "\n",
    "for fname in images:\n",
    "    img=cv2.imread(fname)\n",
    "    h,w=img.shape[:2]\n",
    "       \n",
    "     #undistort\n",
    "    newcamera, roi = cv2.getOptimalNewCameraMatrix(K, dist, (w,h), 0)\n",
    "    newimg = cv2.undistort(img, K, dist, None, newcamera)\n",
    "    \n",
    "    # save image\n",
    "    newfname = fname+'_undis.png'\n",
    "    #cv2.imwrite('./calibration_test/CalibResult/undis_result.jpg', newimg)\n",
    "    cv2.imwrite(newfname, newimg)\n",
    "    \n",
    "cv2.waitKey()"
   ]
  },
  {
   "cell_type": "code",
   "execution_count": null,
   "metadata": {},
   "outputs": [],
   "source": []
  }
 ],
 "metadata": {
  "kernelspec": {
   "display_name": "Python 3",
   "language": "python",
   "name": "python3"
  },
  "language_info": {
   "codemirror_mode": {
    "name": "ipython",
    "version": 3
   },
   "file_extension": ".py",
   "mimetype": "text/x-python",
   "name": "python",
   "nbconvert_exporter": "python",
   "pygments_lexer": "ipython3",
   "version": "3.8.3"
  }
 },
 "nbformat": 4,
 "nbformat_minor": 4
}
